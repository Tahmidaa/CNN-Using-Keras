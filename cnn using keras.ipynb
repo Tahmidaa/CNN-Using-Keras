{
 "cells": [
  {
   "cell_type": "code",
   "execution_count": 2,
   "id": "4616dbb6",
   "metadata": {},
   "outputs": [],
   "source": [
    "# This Python 3 environment comes with many helpful analytics libraries installed\n",
    "# It is defined by the kaggle/python docker image: https://github.com/kaggle/docker-python\n",
    "# For example, here's several helpful packages to load in \n",
    "\n",
    "import numpy as np # linear algebra\n",
    "import pandas as pd # data processing, CSV file I/O (e.g. pd.read_csv)\n",
    "\n",
    "# Input data files are available in the \"../input/\" directory.\n",
    "# For example, running this (by clicking run or pressing Shift+Enter) will list all files under the input directory\n"
   ]
  },
  {
   "cell_type": "code",
   "execution_count": 3,
   "id": "593bd769",
   "metadata": {},
   "outputs": [],
   "source": [
    "import os\n",
    "for dirname, _, filenames in os.walk('/kaggle/input'):\n",
    "    for filename in filenames:\n",
    "        print(os.path.join(dirname, filename))\n",
    "\n",
    "# Any results you write to the current directory are saved as output."
   ]
  },
  {
   "cell_type": "code",
   "execution_count": 34,
   "id": "38dfd5a7",
   "metadata": {},
   "outputs": [],
   "source": [
    "import matplotlib.pyplot as plt\n",
    "import seaborn as sns\n",
    "import keras\n",
    "from keras.models import Sequential\n",
    "from keras.layers import Dense, Conv2D , MaxPool2D , Flatten , Dropout , BatchNormalization\n",
    "from keras.preprocessing.image import ImageDataGenerator\n",
    "from sklearn.model_selection import train_test_split\n",
    "from sklearn.metrics import classification_report,confusion_matrix\n",
    "from keras.callbacks import ReduceLROnPlateau"
   ]
  },
  {
   "cell_type": "code",
   "execution_count": 28,
   "id": "e2945ba7",
   "metadata": {},
   "outputs": [
    {
     "name": "stdout",
     "output_type": "stream",
     "text": [
      "Collecting Sequential\n",
      "  Downloading sequential-1.0.0.tar.gz (2.3 kB)\n",
      "  Preparing metadata (setup.py) ... \u001b[?25ldone\n",
      "\u001b[?25hBuilding wheels for collected packages: Sequential\n",
      "  Building wheel for Sequential (setup.py) ... \u001b[?25ldone\n",
      "\u001b[?25h  Created wheel for Sequential: filename=sequential-1.0.0-py3-none-any.whl size=2880 sha256=9ff170beeda7698bd78174b0a8d644ba749da4a2f0c214137841a7525ef4fa97\n",
      "  Stored in directory: /home/tahmida/.cache/pip/wheels/e9/75/a4/285f10d64daf30955cb07d31a37f9f83fcd5779c6773e18f48\n",
      "Successfully built Sequential\n",
      "Installing collected packages: Sequential\n",
      "Successfully installed Sequential-1.0.0\n"
     ]
    }
   ],
   "source": [
    "!pip install Sequential"
   ]
  },
  {
   "cell_type": "code",
   "execution_count": 5,
   "id": "aa58197a",
   "metadata": {},
   "outputs": [],
   "source": [
    "train_df = pd.read_csv(\"/home/tahmida/Desktop/dataset/sign_mnist_train/sign_mnist_train.csv\")\n",
    "test_df = pd.read_csv(\"/home/tahmida/Desktop/dataset/sign_mnist_test/sign_mnist_test.csv\")"
   ]
  },
  {
   "cell_type": "code",
   "execution_count": 9,
   "id": "4706af09",
   "metadata": {
    "collapsed": true
   },
   "outputs": [
    {
     "name": "stdout",
     "output_type": "stream",
     "text": [
      "Collecting seaborn\n",
      "  Using cached seaborn-0.11.2-py3-none-any.whl (292 kB)\n",
      "Requirement already satisfied: scipy>=1.0 in ./lib/python3.9/site-packages (from seaborn) (1.7.0)\n",
      "Requirement already satisfied: pandas>=0.23 in ./lib/python3.9/site-packages (from seaborn) (1.2.5)\n",
      "Requirement already satisfied: numpy>=1.15 in ./lib/python3.9/site-packages (from seaborn) (1.21.0)\n",
      "Requirement already satisfied: matplotlib>=2.2 in ./lib/python3.9/site-packages (from seaborn) (3.4.2)\n",
      "Requirement already satisfied: kiwisolver>=1.0.1 in ./lib/python3.9/site-packages (from matplotlib>=2.2->seaborn) (1.3.1)\n",
      "Requirement already satisfied: python-dateutil>=2.7 in ./lib/python3.9/site-packages (from matplotlib>=2.2->seaborn) (2.8.1)\n",
      "Requirement already satisfied: cycler>=0.10 in ./lib/python3.9/site-packages (from matplotlib>=2.2->seaborn) (0.10.0)\n",
      "Requirement already satisfied: pyparsing>=2.2.1 in ./lib/python3.9/site-packages (from matplotlib>=2.2->seaborn) (2.4.7)\n",
      "Requirement already satisfied: pillow>=6.2.0 in ./lib/python3.9/site-packages (from matplotlib>=2.2->seaborn) (8.2.0)\n",
      "Requirement already satisfied: pytz>=2017.3 in ./lib/python3.9/site-packages (from pandas>=0.23->seaborn) (2021.1)\n",
      "Requirement already satisfied: six in ./lib/python3.9/site-packages (from cycler>=0.10->matplotlib>=2.2->seaborn) (1.16.0)\n",
      "Installing collected packages: seaborn\n",
      "Successfully installed seaborn-0.11.2\n"
     ]
    }
   ],
   "source": [
    "!pip install seaborn"
   ]
  },
  {
   "cell_type": "code",
   "execution_count": 11,
   "id": "93e99413",
   "metadata": {},
   "outputs": [
    {
     "name": "stdout",
     "output_type": "stream",
     "text": [
      "Collecting keras\n",
      "  Using cached keras-2.7.0-py2.py3-none-any.whl (1.3 MB)\n",
      "Installing collected packages: keras\n",
      "Successfully installed keras-2.7.0\n"
     ]
    }
   ],
   "source": [
    "!pip install keras"
   ]
  },
  {
   "cell_type": "markdown",
   "id": "26212d28",
   "metadata": {},
   "source": [
    "!pip install tensorflow"
   ]
  },
  {
   "cell_type": "markdown",
   "id": "64f0187d",
   "metadata": {},
   "source": [
    "# Loading the ASL dataset"
   ]
  },
  {
   "cell_type": "markdown",
   "id": "9e1a7b7f",
   "metadata": {},
   "source": [
    "test = pd.read_csv(\"/home/tahmida/Desktop/dataset/sign_mnist_train/sign_mnist_train.csv\")\n",
    "y = test['label']"
   ]
  },
  {
   "cell_type": "code",
   "execution_count": 7,
   "id": "645e0a64",
   "metadata": {},
   "outputs": [
    {
     "data": {
      "text/html": [
       "<div>\n",
       "<style scoped>\n",
       "    .dataframe tbody tr th:only-of-type {\n",
       "        vertical-align: middle;\n",
       "    }\n",
       "\n",
       "    .dataframe tbody tr th {\n",
       "        vertical-align: top;\n",
       "    }\n",
       "\n",
       "    .dataframe thead th {\n",
       "        text-align: right;\n",
       "    }\n",
       "</style>\n",
       "<table border=\"1\" class=\"dataframe\">\n",
       "  <thead>\n",
       "    <tr style=\"text-align: right;\">\n",
       "      <th></th>\n",
       "      <th>label</th>\n",
       "      <th>pixel1</th>\n",
       "      <th>pixel2</th>\n",
       "      <th>pixel3</th>\n",
       "      <th>pixel4</th>\n",
       "      <th>pixel5</th>\n",
       "      <th>pixel6</th>\n",
       "      <th>pixel7</th>\n",
       "      <th>pixel8</th>\n",
       "      <th>pixel9</th>\n",
       "      <th>...</th>\n",
       "      <th>pixel775</th>\n",
       "      <th>pixel776</th>\n",
       "      <th>pixel777</th>\n",
       "      <th>pixel778</th>\n",
       "      <th>pixel779</th>\n",
       "      <th>pixel780</th>\n",
       "      <th>pixel781</th>\n",
       "      <th>pixel782</th>\n",
       "      <th>pixel783</th>\n",
       "      <th>pixel784</th>\n",
       "    </tr>\n",
       "  </thead>\n",
       "  <tbody>\n",
       "    <tr>\n",
       "      <th>0</th>\n",
       "      <td>3</td>\n",
       "      <td>107</td>\n",
       "      <td>118</td>\n",
       "      <td>127</td>\n",
       "      <td>134</td>\n",
       "      <td>139</td>\n",
       "      <td>143</td>\n",
       "      <td>146</td>\n",
       "      <td>150</td>\n",
       "      <td>153</td>\n",
       "      <td>...</td>\n",
       "      <td>207</td>\n",
       "      <td>207</td>\n",
       "      <td>207</td>\n",
       "      <td>207</td>\n",
       "      <td>206</td>\n",
       "      <td>206</td>\n",
       "      <td>206</td>\n",
       "      <td>204</td>\n",
       "      <td>203</td>\n",
       "      <td>202</td>\n",
       "    </tr>\n",
       "    <tr>\n",
       "      <th>1</th>\n",
       "      <td>6</td>\n",
       "      <td>155</td>\n",
       "      <td>157</td>\n",
       "      <td>156</td>\n",
       "      <td>156</td>\n",
       "      <td>156</td>\n",
       "      <td>157</td>\n",
       "      <td>156</td>\n",
       "      <td>158</td>\n",
       "      <td>158</td>\n",
       "      <td>...</td>\n",
       "      <td>69</td>\n",
       "      <td>149</td>\n",
       "      <td>128</td>\n",
       "      <td>87</td>\n",
       "      <td>94</td>\n",
       "      <td>163</td>\n",
       "      <td>175</td>\n",
       "      <td>103</td>\n",
       "      <td>135</td>\n",
       "      <td>149</td>\n",
       "    </tr>\n",
       "    <tr>\n",
       "      <th>2</th>\n",
       "      <td>2</td>\n",
       "      <td>187</td>\n",
       "      <td>188</td>\n",
       "      <td>188</td>\n",
       "      <td>187</td>\n",
       "      <td>187</td>\n",
       "      <td>186</td>\n",
       "      <td>187</td>\n",
       "      <td>188</td>\n",
       "      <td>187</td>\n",
       "      <td>...</td>\n",
       "      <td>202</td>\n",
       "      <td>201</td>\n",
       "      <td>200</td>\n",
       "      <td>199</td>\n",
       "      <td>198</td>\n",
       "      <td>199</td>\n",
       "      <td>198</td>\n",
       "      <td>195</td>\n",
       "      <td>194</td>\n",
       "      <td>195</td>\n",
       "    </tr>\n",
       "    <tr>\n",
       "      <th>3</th>\n",
       "      <td>2</td>\n",
       "      <td>211</td>\n",
       "      <td>211</td>\n",
       "      <td>212</td>\n",
       "      <td>212</td>\n",
       "      <td>211</td>\n",
       "      <td>210</td>\n",
       "      <td>211</td>\n",
       "      <td>210</td>\n",
       "      <td>210</td>\n",
       "      <td>...</td>\n",
       "      <td>235</td>\n",
       "      <td>234</td>\n",
       "      <td>233</td>\n",
       "      <td>231</td>\n",
       "      <td>230</td>\n",
       "      <td>226</td>\n",
       "      <td>225</td>\n",
       "      <td>222</td>\n",
       "      <td>229</td>\n",
       "      <td>163</td>\n",
       "    </tr>\n",
       "    <tr>\n",
       "      <th>4</th>\n",
       "      <td>13</td>\n",
       "      <td>164</td>\n",
       "      <td>167</td>\n",
       "      <td>170</td>\n",
       "      <td>172</td>\n",
       "      <td>176</td>\n",
       "      <td>179</td>\n",
       "      <td>180</td>\n",
       "      <td>184</td>\n",
       "      <td>185</td>\n",
       "      <td>...</td>\n",
       "      <td>92</td>\n",
       "      <td>105</td>\n",
       "      <td>105</td>\n",
       "      <td>108</td>\n",
       "      <td>133</td>\n",
       "      <td>163</td>\n",
       "      <td>157</td>\n",
       "      <td>163</td>\n",
       "      <td>164</td>\n",
       "      <td>179</td>\n",
       "    </tr>\n",
       "  </tbody>\n",
       "</table>\n",
       "<p>5 rows × 785 columns</p>\n",
       "</div>"
      ],
      "text/plain": [
       "   label  pixel1  pixel2  pixel3  pixel4  pixel5  pixel6  pixel7  pixel8  \\\n",
       "0      3     107     118     127     134     139     143     146     150   \n",
       "1      6     155     157     156     156     156     157     156     158   \n",
       "2      2     187     188     188     187     187     186     187     188   \n",
       "3      2     211     211     212     212     211     210     211     210   \n",
       "4     13     164     167     170     172     176     179     180     184   \n",
       "\n",
       "   pixel9  ...  pixel775  pixel776  pixel777  pixel778  pixel779  pixel780  \\\n",
       "0     153  ...       207       207       207       207       206       206   \n",
       "1     158  ...        69       149       128        87        94       163   \n",
       "2     187  ...       202       201       200       199       198       199   \n",
       "3     210  ...       235       234       233       231       230       226   \n",
       "4     185  ...        92       105       105       108       133       163   \n",
       "\n",
       "   pixel781  pixel782  pixel783  pixel784  \n",
       "0       206       204       203       202  \n",
       "1       175       103       135       149  \n",
       "2       198       195       194       195  \n",
       "3       225       222       229       163  \n",
       "4       157       163       164       179  \n",
       "\n",
       "[5 rows x 785 columns]"
      ]
     },
     "execution_count": 7,
     "metadata": {},
     "output_type": "execute_result"
    }
   ],
   "source": [
    "train_df.head()"
   ]
  },
  {
   "cell_type": "markdown",
   "id": "442934b6",
   "metadata": {},
   "source": [
    "# Data Visualization and Preprocessing"
   ]
  },
  {
   "cell_type": "code",
   "execution_count": 9,
   "id": "e1490d8e",
   "metadata": {
    "scrolled": false
   },
   "outputs": [
    {
     "name": "stderr",
     "output_type": "stream",
     "text": [
      "/home/tahmida/fastapi/lib/python3.9/site-packages/seaborn/_decorators.py:36: FutureWarning: Pass the following variable as a keyword arg: x. From version 0.12, the only valid positional argument will be `data`, and passing other arguments without an explicit keyword will result in an error or misinterpretation.\n",
      "  warnings.warn(\n"
     ]
    },
    {
     "data": {
      "text/plain": [
       "<AxesSubplot:xlabel='label', ylabel='count'>"
      ]
     },
     "execution_count": 9,
     "metadata": {},
     "output_type": "execute_result"
    },
    {
     "data": {
      "image/png": "[encoded data removed]",
      "text/plain": [
       "<Figure size 720x720 with 1 Axes>"
      ]
     },
     "metadata": {
      "needs_background": "light"
     },
     "output_type": "display_data"
    }
   ],
   "source": [
    "plt.figure(figsize = (10,10)) # Label Count\n",
    "sns.set_style(\"darkgrid\")\n",
    "sns.countplot(train_df['label'])\n"
   ]
  },
  {
   "cell_type": "code",
   "execution_count": 10,
   "id": "9c6fdd20",
   "metadata": {},
   "outputs": [],
   "source": [
    "y_train = train_df['label']\n",
    "y_test = test_df['label']\n",
    "del train_df['label']\n",
    "del test_df['label']"
   ]
  },
  {
   "cell_type": "code",
   "execution_count": 11,
   "id": "4dcb1679",
   "metadata": {},
   "outputs": [],
   "source": [
    "from sklearn.preprocessing import LabelBinarizer\n",
    "label_binarizer = LabelBinarizer()\n",
    "y_train = label_binarizer.fit_transform(y_train)\n",
    "y_test = label_binarizer.fit_transform(y_test)"
   ]
  },
  {
   "cell_type": "code",
   "execution_count": 12,
   "id": "2c0291ec",
   "metadata": {},
   "outputs": [],
   "source": [
    "x_train = train_df.values\n",
    "x_test = test_df.values"
   ]
  },
  {
   "cell_type": "code",
   "execution_count": 13,
   "id": "9c3749ad",
   "metadata": {},
   "outputs": [],
   "source": [
    "# Normalize the data\n",
    "x_train = x_train / 255\n",
    "x_test = x_test / 255"
   ]
  },
  {
   "cell_type": "code",
   "execution_count": 14,
   "id": "dcdf3d21",
   "metadata": {},
   "outputs": [],
   "source": [
    "# Reshaping the data from 1-D to 3-D as required through input by CNN's\n",
    "x_train = x_train.reshape(-1,28,28,1)\n",
    "x_test = x_test.reshape(-1,28,28,1)"
   ]
  },
  {
   "cell_type": "markdown",
   "id": "e6d76cbd",
   "metadata": {},
   "source": [
    "Preview of first 10 images"
   ]
  },
  {
   "cell_type": "code",
   "execution_count": 15,
   "id": "5c7a2bb1",
   "metadata": {},
   "outputs": [
    {
     "data": {
      "image/png": "[encoded data removed]",
      "text/plain": [
       "<Figure size 720x720 with 10 Axes>"
      ]
     },
     "metadata": {},
     "output_type": "display_data"
    }
   ],
   "source": [
    "f, ax = plt.subplots(2,5) \n",
    "f.set_size_inches(10, 10)\n",
    "k = 0\n",
    "for i in range(2):\n",
    "    for j in range(5):\n",
    "        ax[i,j].imshow(x_train[k].reshape(28, 28) , cmap = \"gray\")\n",
    "        k += 1\n",
    "    plt.tight_layout()    "
   ]
  },
  {
   "cell_type": "markdown",
   "id": "33eea3c4",
   "metadata": {},
   "source": [
    "\n",
    "Data Augmentation\n",
    "\n",
    "In order to avoid overfitting problem, we need to expand artificially our dataset. We can make your existing dataset even larger. The idea is to alter the training data with small transformations to reproduce the variations.\n",
    "\n",
    "Approaches that alter the training data in ways that change the array representation while keeping the label the same are known as data augmentation techniques. Some popular augmentations people use are grayscales, horizontal flips, vertical flips, random crops, color jitters, translations, rotations, and much more.\n",
    "\n",
    "By applying just a couple of these transformations to our training data, we can easily double or triple the number of training examples and create a very robust model.\n"
   ]
  },
  {
   "cell_type": "code",
   "execution_count": 16,
   "id": "7b1b0d79",
   "metadata": {},
   "outputs": [],
   "source": [
    "# With data augmentation to prevent overfitting\n",
    "\n",
    "datagen = ImageDataGenerator(\n",
    "        featurewise_center=False,  # set input mean to 0 over the dataset\n",
    "        samplewise_center=False,  # set each sample mean to 0\n",
    "        featurewise_std_normalization=False,  # divide inputs by std of the dataset\n",
    "        samplewise_std_normalization=False,  # divide each input by its std\n",
    "        zca_whitening=False,  # apply ZCA whitening\n",
    "        rotation_range=10,  # randomly rotate images in the range (degrees, 0 to 180)\n",
    "        zoom_range = 0.1, # Randomly zoom image \n",
    "        width_shift_range=0.1,  # randomly shift images horizontally (fraction of total width)\n",
    "        height_shift_range=0.1,  # randomly shift images vertically (fraction of total height)\n",
    "        horizontal_flip=False,  # randomly flip images\n",
    "        vertical_flip=False)  # randomly flip images\n",
    "\n",
    "\n",
    "datagen.fit(x_train)"
   ]
  },
  {
   "cell_type": "markdown",
   "id": "7c60b03e",
   "metadata": {},
   "source": [
    "For the data augmentation, i choosed to :\n",
    "\n",
    "Randomly rotate some training images by 10 degrees Randomly Zoom by 10% some training images Randomly shift images horizontally by 10% of the width Randomly shift images vertically by 10% of the height I did not apply a vertical_flip nor horizontal_flip since it could have lead to misclassify.\n",
    "\n",
    "Once our model is ready, we fit the training dataset .\n"
   ]
  },
  {
   "cell_type": "markdown",
   "id": "8f7b571e",
   "metadata": {},
   "source": [
    "# CONVOLUTIONAL NEURAL NETWORKS TO THE RESCUE"
   ]
  },
  {
   "cell_type": "markdown",
   "id": "99916cc4",
   "metadata": {},
   "source": [
    "A Convolutional Neural Network is a special type of an Artificial Intelligence implementation which uses a special mathematical matrix manipulation called the convolution operation to process data from the images.\n",
    "\n",
    "    A convolution does this by multiplying two matrices and yielding a third, smaller matrix.\n",
    "    The Network takes an input image, and uses a filter (or kernel) to create a feature map describing the image.\n",
    "    In the convolution operation, we take a filter (usually 2x2 or 3x3 matrix ) and slide it over the image matrix. The coresponding numbers in both matrices are multiplied and and added to yield a single number describing that input space. This process is repeated all over the image.This working can be seen in the following figure"
   ]
  },
  {
   "cell_type": "markdown",
   "id": "edf5f9ff",
   "metadata": {},
   "source": [
    "# Training The Model"
   ]
  },
  {
   "cell_type": "code",
   "execution_count": 17,
   "id": "9e86b7b8",
   "metadata": {},
   "outputs": [],
   "source": [
    "learning_rate_reduction = ReduceLROnPlateau(monitor='val_accuracy', patience = 2, verbose=1,factor=0.5, min_lr=0.00001)"
   ]
  },
  {
   "cell_type": "code",
   "execution_count": 49,
   "id": "e8f3bf7b",
   "metadata": {},
   "outputs": [
    {
     "name": "stdout",
     "output_type": "stream",
     "text": [
      "Model: \"sequential_7\"\n",
      "_________________________________________________________________\n",
      " Layer (type)                Output Shape              Param #   \n",
      "=================================================================\n",
      " conv2d_15 (Conv2D)          (None, 28, 28, 75)        750       \n",
      "                                                                 \n",
      " batch_normalization_15 (Bat  (None, 28, 28, 75)       300       \n",
      " chNormalization)                                                \n",
      "                                                                 \n",
      " max_pooling2d_15 (MaxPoolin  (None, 14, 14, 75)       0         \n",
      " g2D)                                                            \n",
      "                                                                 \n",
      " conv2d_16 (Conv2D)          (None, 14, 14, 50)        33800     \n",
      "                                                                 \n",
      " dropout_10 (Dropout)        (None, 14, 14, 50)        0         \n",
      "                                                                 \n",
      " batch_normalization_16 (Bat  (None, 14, 14, 50)       200       \n",
      " chNormalization)                                                \n",
      "                                                                 \n",
      " max_pooling2d_16 (MaxPoolin  (None, 7, 7, 50)         0         \n",
      " g2D)                                                            \n",
      "                                                                 \n",
      " conv2d_17 (Conv2D)          (None, 7, 7, 25)          11275     \n",
      "                                                                 \n",
      " batch_normalization_17 (Bat  (None, 7, 7, 25)         100       \n",
      " chNormalization)                                                \n",
      "                                                                 \n",
      " max_pooling2d_17 (MaxPoolin  (None, 4, 4, 25)         0         \n",
      " g2D)                                                            \n",
      "                                                                 \n",
      " flatten_5 (Flatten)         (None, 400)               0         \n",
      "                                                                 \n",
      " dense_10 (Dense)            (None, 512)               205312    \n",
      "                                                                 \n",
      " dropout_11 (Dropout)        (None, 512)               0         \n",
      "                                                                 \n",
      " dense_11 (Dense)            (None, 24)                12312     \n",
      "                                                                 \n",
      "=================================================================\n",
      "Total params: 264,049\n",
      "Trainable params: 263,749\n",
      "Non-trainable params: 300\n",
      "_________________________________________________________________\n"
     ]
    }
   ],
   "source": [
    "model = Sequential()\n",
    "model.add(Conv2D(75 , (3,3) , strides = 1 , padding = 'same' , activation = 'relu' , input_shape = (28,28,1)))\n",
    "model.add(BatchNormalization())\n",
    "model.add(MaxPool2D((2,2) , strides = 2 , padding = 'same'))\n",
    "model.add(Conv2D(50 , (3,3) , strides = 1 , padding = 'same' , activation = 'relu'))\n",
    "model.add(Dropout(0.2))\n",
    "model.add(BatchNormalization())\n",
    "model.add(MaxPool2D((2,2) , strides = 2 , padding = 'same'))\n",
    "model.add(Conv2D(25 , (3,3) , strides = 1 , padding = 'same' , activation = 'relu'))\n",
    "model.add(BatchNormalization())\n",
    "model.add(MaxPool2D((2,2) , strides = 2 , padding = 'same'))\n",
    "model.add(Flatten())\n",
    "model.add(Dense(units = 512 , activation = 'relu'))\n",
    "model.add(Dropout(0.3))\n",
    "model.add(Dense(units = 24 , activation = 'softmax'))\n",
    "model.compile(optimizer = 'adam' , loss = 'categorical_crossentropy' , metrics = ['accuracy'])\n",
    "model.summary()"
   ]
  },
  {
   "cell_type": "code",
   "execution_count": 48,
   "id": "06c9b3fa",
   "metadata": {},
   "outputs": [
    {
     "name": "stdout",
     "output_type": "stream",
     "text": [
      "Epoch 1/20\n",
      "215/215 [==============================] - 26s 120ms/step - loss: 0.5460 - accuracy: 0.8192 - val_loss: 2.6936 - val_accuracy: 0.2144 - lr: 0.0010\n",
      "Epoch 2/20\n",
      "215/215 [==============================] - 25s 118ms/step - loss: 0.1673 - accuracy: 0.9459 - val_loss: 1.4992 - val_accuracy: 0.5763 - lr: 0.0010\n",
      "Epoch 3/20\n",
      "215/215 [==============================] - 26s 120ms/step - loss: 0.0904 - accuracy: 0.9711 - val_loss: 0.0449 - val_accuracy: 0.9908 - lr: 0.0010\n",
      "Epoch 4/20\n",
      "215/215 [==============================] - 25s 118ms/step - loss: 0.0593 - accuracy: 0.9811 - val_loss: 0.0293 - val_accuracy: 0.9902 - lr: 0.0010\n",
      "Epoch 5/20\n",
      "215/215 [==============================] - ETA: 0s - loss: 0.0406 - accuracy: 0.9874\n",
      "Epoch 00005: ReduceLROnPlateau reducing learning rate to 0.0005000000237487257.\n",
      "215/215 [==============================] - 27s 127ms/step - loss: 0.0406 - accuracy: 0.9874 - val_loss: 0.0843 - val_accuracy: 0.9776 - lr: 0.0010\n",
      "Epoch 6/20\n",
      "215/215 [==============================] - 28s 129ms/step - loss: 0.0258 - accuracy: 0.9929 - val_loss: 0.0240 - val_accuracy: 0.9918 - lr: 5.0000e-04\n",
      "Epoch 7/20\n",
      "215/215 [==============================] - 26s 120ms/step - loss: 0.0173 - accuracy: 0.9953 - val_loss: 0.0222 - val_accuracy: 0.9944 - lr: 5.0000e-04\n",
      "Epoch 8/20\n",
      "215/215 [==============================] - 25s 118ms/step - loss: 0.0173 - accuracy: 0.9950 - val_loss: 0.0236 - val_accuracy: 0.9909 - lr: 5.0000e-04\n",
      "Epoch 9/20\n",
      "215/215 [==============================] - 25s 116ms/step - loss: 0.0171 - accuracy: 0.9949 - val_loss: 0.0114 - val_accuracy: 0.9983 - lr: 5.0000e-04\n",
      "Epoch 10/20\n",
      "215/215 [==============================] - 25s 116ms/step - loss: 0.0147 - accuracy: 0.9960 - val_loss: 0.0068 - val_accuracy: 0.9969 - lr: 5.0000e-04\n",
      "Epoch 11/20\n",
      "215/215 [==============================] - ETA: 0s - loss: 0.0133 - accuracy: 0.9960\n",
      "Epoch 00011: ReduceLROnPlateau reducing learning rate to 0.0002500000118743628.\n",
      "215/215 [==============================] - 25s 115ms/step - loss: 0.0133 - accuracy: 0.9960 - val_loss: 0.0623 - val_accuracy: 0.9766 - lr: 5.0000e-04\n",
      "Epoch 12/20\n",
      "215/215 [==============================] - 25s 115ms/step - loss: 0.0091 - accuracy: 0.9973 - val_loss: 0.0123 - val_accuracy: 0.9954 - lr: 2.5000e-04\n",
      "Epoch 13/20\n",
      "215/215 [==============================] - ETA: 0s - loss: 0.0081 - accuracy: 0.9975\n",
      "Epoch 00013: ReduceLROnPlateau reducing learning rate to 0.0001250000059371814.\n",
      "215/215 [==============================] - 25s 115ms/step - loss: 0.0081 - accuracy: 0.9975 - val_loss: 0.0083 - val_accuracy: 0.9967 - lr: 2.5000e-04\n",
      "Epoch 14/20\n",
      "215/215 [==============================] - 25s 115ms/step - loss: 0.0073 - accuracy: 0.9982 - val_loss: 0.0075 - val_accuracy: 0.9969 - lr: 1.2500e-04\n",
      "Epoch 15/20\n",
      "215/215 [==============================] - ETA: 0s - loss: 0.0055 - accuracy: 0.9984\n",
      "Epoch 00015: ReduceLROnPlateau reducing learning rate to 6.25000029685907e-05.\n",
      "215/215 [==============================] - 25s 116ms/step - loss: 0.0055 - accuracy: 0.9984 - val_loss: 0.0154 - val_accuracy: 0.9960 - lr: 1.2500e-04\n",
      "Epoch 16/20\n",
      "215/215 [==============================] - 26s 119ms/step - loss: 0.0057 - accuracy: 0.9985 - val_loss: 0.0073 - val_accuracy: 0.9968 - lr: 6.2500e-05\n",
      "Epoch 17/20\n",
      "215/215 [==============================] - ETA: 0s - loss: 0.0049 - accuracy: 0.9989\n",
      "Epoch 00017: ReduceLROnPlateau reducing learning rate to 3.125000148429535e-05.\n",
      "215/215 [==============================] - 26s 123ms/step - loss: 0.0049 - accuracy: 0.9989 - val_loss: 0.0084 - val_accuracy: 0.9965 - lr: 6.2500e-05\n",
      "Epoch 18/20\n",
      "215/215 [==============================] - 25s 114ms/step - loss: 0.0048 - accuracy: 0.9988 - val_loss: 0.0062 - val_accuracy: 0.9967 - lr: 3.1250e-05\n",
      "Epoch 19/20\n",
      "215/215 [==============================] - 26s 120ms/step - loss: 0.0045 - accuracy: 0.9990 - val_loss: 0.0033 - val_accuracy: 0.9993 - lr: 3.1250e-05\n",
      "Epoch 20/20\n",
      "215/215 [==============================] - 25s 116ms/step - loss: 0.0048 - accuracy: 0.9986 - val_loss: 0.0031 - val_accuracy: 0.9990 - lr: 3.1250e-05\n"
     ]
    }
   ],
   "source": [
    "history = model.fit(datagen.flow(x_train,y_train, batch_size = 128) ,epochs = 20 , validation_data = (x_test, y_test) , callbacks = [learning_rate_reduction])"
   ]
  },
  {
   "cell_type": "code",
   "execution_count": 20,
   "id": "95c4df28",
   "metadata": {},
   "outputs": [
    {
     "name": "stdout",
     "output_type": "stream",
     "text": [
      "225/225 [==============================] - 2s 8ms/step - loss: 0.0021 - accuracy: 0.9994\n",
      "Accuracy of the model is -  99.94422793388367 %\n"
     ]
    }
   ],
   "source": [
    "print(\"Accuracy of the model is - \" , model.evaluate(x_test,y_test)[1]*100 , \"%\")"
   ]
  },
  {
   "cell_type": "markdown",
   "id": "e4ab834e",
   "metadata": {},
   "source": [
    "# Analysis after Model Training\n"
   ]
  },
  {
   "cell_type": "code",
   "execution_count": 21,
   "id": "9a5f9147",
   "metadata": {},
   "outputs": [
    {
     "data": {
      "image/png": "[encoded data removed]",
      "text/plain": [
       "<Figure size 1152x648 with 2 Axes>"
      ]
     },
     "metadata": {},
     "output_type": "display_data"
    }
   ],
   "source": [
    "epochs = [i for i in range(20)]\n",
    "fig , ax = plt.subplots(1,2)\n",
    "train_acc = history.history['accuracy']\n",
    "train_loss = history.history['loss']\n",
    "val_acc = history.history['val_accuracy']\n",
    "val_loss = history.history['val_loss']\n",
    "fig.set_size_inches(16,9)\n",
    "\n",
    "ax[0].plot(epochs , train_acc , 'go-' , label = 'Training Accuracy')\n",
    "ax[0].plot(epochs , val_acc , 'ro-' , label = 'Testing Accuracy')\n",
    "ax[0].set_title('Training & Validation Accuracy')\n",
    "ax[0].legend()\n",
    "ax[0].set_xlabel(\"Epochs\")\n",
    "ax[0].set_ylabel(\"Accuracy\")\n",
    "\n",
    "ax[1].plot(epochs , train_loss , 'g-o' , label = 'Training Loss')\n",
    "ax[1].plot(epochs , val_loss , 'r-o' , label = 'Testing Loss')\n",
    "ax[1].set_title('Testing Accuracy & Loss')\n",
    "ax[1].legend()\n",
    "ax[1].set_xlabel(\"Epochs\")\n",
    "ax[1].set_ylabel(\"Loss\")\n",
    "plt.show()"
   ]
  },
  {
   "cell_type": "code",
   "execution_count": 83,
   "id": "6b940f6a",
   "metadata": {},
   "outputs": [
    {
     "data": {
      "text/plain": [
       "array([[0.04091799, 0.0403145 , 0.04202123, 0.04169688, 0.04262618,\n",
       "        0.04057848, 0.04137373, 0.04136313, 0.04159526, 0.04018748,\n",
       "        0.0415679 , 0.04215823, 0.04239628, 0.04070146, 0.04402333,\n",
       "        0.04103786, 0.04241824, 0.04209754, 0.04242364, 0.04191988,\n",
       "        0.04069719, 0.04099752, 0.04343499, 0.04145108],\n",
       "       [0.04076233, 0.04031939, 0.04236982, 0.04148075, 0.04263055,\n",
       "        0.04028156, 0.04150962, 0.04101247, 0.04180853, 0.04003328,\n",
       "        0.0413659 , 0.0426363 , 0.0429271 , 0.04037507, 0.04408685,\n",
       "        0.04063379, 0.04282486, 0.04191622, 0.04221702, 0.04164833,\n",
       "        0.04093831, 0.04103237, 0.04320868, 0.04198088],\n",
       "       [0.04047789, 0.04037319, 0.04206691, 0.04147539, 0.04312807,\n",
       "        0.04050838, 0.04173282, 0.0411946 , 0.04183938, 0.04006791,\n",
       "        0.04150677, 0.04266084, 0.04286152, 0.04037387, 0.04427748,\n",
       "        0.04050635, 0.04300651, 0.04177278, 0.04246964, 0.04189304,\n",
       "        0.04058852, 0.04067086, 0.04304115, 0.04150613],\n",
       "       [0.04066575, 0.0402137 , 0.04200047, 0.04115712, 0.04287472,\n",
       "        0.04031225, 0.04189391, 0.04123432, 0.04224277, 0.03955042,\n",
       "        0.04142941, 0.04275094, 0.0429214 , 0.03988582, 0.0449054 ,\n",
       "        0.04056785, 0.04301595, 0.0420997 , 0.04209128, 0.04155566,\n",
       "        0.04012239, 0.04056133, 0.04403301, 0.04191445],\n",
       "       [0.04025498, 0.03991133, 0.04260873, 0.04136134, 0.04258611,\n",
       "        0.04058417, 0.04171394, 0.04080122, 0.04178236, 0.03970222,\n",
       "        0.04107204, 0.04272113, 0.04263537, 0.04029752, 0.04478345,\n",
       "        0.04105441, 0.04309835, 0.04218191, 0.04224057, 0.04156873,\n",
       "        0.04042872, 0.04082078, 0.04384998, 0.04194064]], dtype=float32)"
      ]
     },
     "execution_count": 83,
     "metadata": {},
     "output_type": "execute_result"
    }
   ],
   "source": [
    "y_predict = np.argmax(model.predict(x_test), axis=-1)\n",
    "\n",
    "predictions[:5]   "
   ]
  },
  {
   "cell_type": "code",
   "execution_count": 98,
   "id": "a29576b5",
   "metadata": {
    "scrolled": true
   },
   "outputs": [
    {
     "data": {
      "text/plain": [
       "<Figure size 1080x1080 with 0 Axes>"
      ]
     },
     "execution_count": 98,
     "metadata": {},
     "output_type": "execute_result"
    },
    {
     "data": {
      "text/plain": [
       "<Figure size 1080x1080 with 0 Axes>"
      ]
     },
     "metadata": {},
     "output_type": "display_data"
    }
   ],
   "source": [
    "plt.figure(figsize = (15,15))"
   ]
  },
  {
   "cell_type": "code",
   "execution_count": null,
   "id": "380c83a9",
   "metadata": {},
   "outputs": [],
   "source": []
  }
 ],
 "metadata": {
  "kernelspec": {
   "display_name": "Python 3",
   "language": "python",
   "name": "python3"
  },
  "language_info": {
   "codemirror_mode": {
    "name": "ipython",
    "version": 3
   },
   "file_extension": ".py",
   "mimetype": "text/x-python",
   "name": "python",
   "nbconvert_exporter": "python",
   "pygments_lexer": "ipython3",
   "version": "3.9.7"
  }
 },
 "nbformat": 4,
 "nbformat_minor": 5
}
